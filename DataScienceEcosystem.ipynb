{
  "metadata": {
    "kernelspec": {
      "name": "python",
      "display_name": "Python (Pyodide)",
      "language": "python"
    },
    "language_info": {
      "codemirror_mode": {
        "name": "python",
        "version": 3
      },
      "file_extension": ".py",
      "mimetype": "text/x-python",
      "name": "python",
      "nbconvert_exporter": "python",
      "pygments_lexer": "ipython3",
      "version": "3.8"
    }
  },
  "nbformat_minor": 5,
  "nbformat": 4,
  "cells": [
    {
      "id": "4281a52f-a7a7-40d7-9f28-b4a6aa1f9738",
      "cell_type": "markdown",
      "source": "<h1>Data Science Tools and Ecosystem<h1>",
      "metadata": {}
    },
    {
      "id": "a00eda19-70a6-4ff4-856e-413ec93bb31e",
      "cell_type": "markdown",
      "source": "In this notebook, Data Science Tools and Ecosystem are summarized.",
      "metadata": {}
    },
    {
      "id": "dc7257bf-6543-464b-96de-cd71088c4f17",
      "cell_type": "markdown",
      "source": "**Objectives:**\n- list popular languages\n- List commonly used libraries\n- List Data Science tools",
      "metadata": {}
    },
    {
      "id": "1a062486-4cad-4d7a-80b7-b3a344fdcaad",
      "cell_type": "markdown",
      "source": "Some of the popular languages that Data Scientists use are:\n1. Python\n2. R\n3. Java",
      "metadata": {}
    },
    {
      "id": "af68b936-8682-43cb-8309-577d95c0d1bc",
      "cell_type": "markdown",
      "source": "Some of the commonly used libraries used by Data Scientists include:\n1. PyTorch\n2. TensorFlow\n3. SciPy",
      "metadata": {}
    },
    {
      "id": "a4c2a124-94e1-46ae-bc43-1576b96b4547",
      "cell_type": "markdown",
      "source": "|Data Science Tools|\n|:----------------:|\n|Jupyter notebook|\n|watson studio|\n|Rstudio|",
      "metadata": {}
    },
    {
      "id": "3d8fe04d-7a37-4fc1-8b7a-31f20fca34cb",
      "cell_type": "markdown",
      "source": "### Below are a few examples of evaluating arithmetic expressions in Python",
      "metadata": {}
    },
    {
      "id": "72c5db72-2554-4343-b18d-3268bcebc4bf",
      "cell_type": "code",
      "source": "#This a simple arithmetic expression to mutiply then add integers\nprint ((3*4)+5)",
      "metadata": {
        "trusted": true
      },
      "outputs": [
        {
          "name": "stdout",
          "text": "17\n",
          "output_type": "stream"
        }
      ],
      "execution_count": 1
    },
    {
      "id": "6571bc30-168f-439d-aa36-8a4b90f0c707",
      "cell_type": "code",
      "source": "#This will convert 200 minutes to hours by diving by 60\nhours=float(200/60)\nprint (hours)",
      "metadata": {
        "trusted": true
      },
      "outputs": [
        {
          "name": "stdout",
          "text": "3.3333333333333335\n",
          "output_type": "stream"
        }
      ],
      "execution_count": 2
    },
    {
      "id": "4dfbd857-d9d1-4e28-98f8-e21b4370b769",
      "cell_type": "markdown",
      "source": "## Author\nLekshmi Nair R",
      "metadata": {}
    },
    {
      "id": "36837083-d385-43d3-a072-f3183ee5e771",
      "cell_type": "code",
      "source": "",
      "metadata": {
        "trusted": true
      },
      "outputs": [],
      "execution_count": null
    }
  ]
}